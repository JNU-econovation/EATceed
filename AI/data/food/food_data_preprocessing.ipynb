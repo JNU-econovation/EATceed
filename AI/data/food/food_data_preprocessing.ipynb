{
 "cells": [
  {
   "cell_type": "markdown",
   "id": "622293e1-072d-4ece-841f-f82920f11d5b",
   "metadata": {},
   "source": [
    "## 1. 라이브러리 설치"
   ]
  },
  {
   "cell_type": "code",
   "execution_count": 1,
   "id": "55218eaf-b8ae-48fd-a243-3d9c5b7a5307",
   "metadata": {},
   "outputs": [],
   "source": [
    "# pandas 설치\n",
    "import pandas as pd"
   ]
  },
  {
   "cell_type": "code",
   "execution_count": 2,
   "id": "6ccad394-5dd1-4aa5-bdb3-66193c68e1f1",
   "metadata": {},
   "outputs": [],
   "source": [
    "# 환경변수 \n",
    "from dotenv import load_dotenv\n",
    "import os\n",
    "\n",
    "load_dotenv()\n",
    "\n",
    "file_path = os.environ.get('RAW_DATA_PATH')"
   ]
  }
 ],
 "metadata": {
  "jupytext": {
   "formats": "ipynb,auto:light"
  },
  "kernelspec": {
   "display_name": "eatceed2",
   "language": "python",
   "name": "eatceed2"
  },
  "language_info": {
   "codemirror_mode": {
    "name": "ipython",
    "version": 3
   },
   "file_extension": ".py",
   "mimetype": "text/x-python",
   "name": "python",
   "nbconvert_exporter": "python",
   "pygments_lexer": "ipython3",
   "version": "3.11.5"
  }
 },
 "nbformat": 4,
 "nbformat_minor": 5
}
