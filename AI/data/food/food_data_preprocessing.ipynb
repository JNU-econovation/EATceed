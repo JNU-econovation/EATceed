{
 "cells": [
  {
   "cell_type": "markdown",
   "id": "622293e1-072d-4ece-841f-f82920f11d5b",
   "metadata": {},
   "source": [
    "## 1. 라이브러리 설치"
   ]
  },
  {
   "cell_type": "code",
   "execution_count": 1,
   "id": "55218eaf-b8ae-48fd-a243-3d9c5b7a5307",
   "metadata": {},
   "outputs": [],
   "source": [
    "# pandas 설치\n",
    "import pandas as pd"
   ]
  },
  {
   "cell_type": "code",
   "execution_count": 2,
   "id": "6ccad394-5dd1-4aa5-bdb3-66193c68e1f1",
   "metadata": {},
   "outputs": [],
   "source": [
    "# 환경변수 \n",
    "from dotenv import load_dotenv\n",
    "import os\n",
    "\n",
    "load_dotenv()\n",
    "\n",
    "file_path = os.environ.get('RAW_DATA_PATH')"
   ]
  },
  {
   "cell_type": "markdown",
   "id": "effd779e-40a6-4a47-84ab-4c85ac8fff85",
   "metadata": {},
   "source": [
    "## 2. 데이터 수집\n",
    "- 데이터 수집 후 필요 속성 null이 없는 데이터셋 구축"
   ]
  },
  {
   "cell_type": "markdown",
   "id": "13407701-dd05-4c81-b075-c1377d0e5dae",
   "metadata": {},
   "source": [
    "### 공공 데이터 포털\n",
    "- https://www.data.go.kr/data/15100070/standard.do?recommendDataYn=Y"
   ]
  },
  {
   "cell_type": "code",
   "execution_count": 3,
   "id": "5567b375-3986-4fd4-9967-d270b90b553b",
   "metadata": {},
   "outputs": [],
   "source": [
    "# csv파일 Load\n",
    "try:\n",
    "    df = pd.read_csv(file_path + '전국통합식품영양성분정보 표준데이터.csv', encoding='utf-8')\n",
    "except UnicodeDecodeError:\n",
    "    try:\n",
    "        df = pd.read_csv(file_path + '전국통합식품영양성분정보 표준데이터.csv', encoding='cp949')\n",
    "    except Exception as e:\n",
    "        print(f\"Error: {e}\")"
   ]
  },
  {
   "cell_type": "code",
   "execution_count": 4,
   "id": "e96b98ab-7e31-4677-b594-69f4827d98df",
   "metadata": {},
   "outputs": [],
   "source": [
    "# '데이터구분명'의 값이 '음식'이고, 주어진 컬럼들에 null값이 없는 데이터 추출\n",
    "required_columns = ['에너지(kcal)', '영양성분함량기준량', '단백질(g)', '지방(g)', '탄수화물(g)', '당류(g)', '나트륨(mg)', '식이섬유(g)']\n",
    "filtered_df = df[(df['데이터구분명'] == '가공식품') & (df[required_columns].notnull().all(axis=1))]"
   ]
  },
  {
   "cell_type": "code",
   "execution_count": 5,
   "id": "ec492233-21b2-40b7-a29c-42743add8498",
   "metadata": {},
   "outputs": [],
   "source": [
    "# 총 인스턴스 개수 파악\n",
    "total_instances = len(filtered_df)"
   ]
  },
  {
   "cell_type": "code",
   "execution_count": 6,
   "id": "8e724903-1fe9-43e0-8ddd-005120c52329",
   "metadata": {},
   "outputs": [
    {
     "name": "stdout",
     "output_type": "stream",
     "text": [
      "\n",
      "총 인스턴스 개수: 1175개\n"
     ]
    }
   ],
   "source": [
    "# 총 인스턴스 개수 : 1175개\n",
    "print(f\"\\n총 인스턴스 개수: {total_instances}개\")"
   ]
  },
  {
   "cell_type": "code",
   "execution_count": 8,
   "id": "40a9bef8-0e50-44b8-8d1b-18d03fa5438e",
   "metadata": {},
   "outputs": [],
   "source": [
    "# # 필터링된 데이터를 CSV 파일로 저장\n",
    "# # utf-8-sig로 인코딩하여 한글 깨짐 방지\n",
    "# filtered_df.to_csv('01_filtered_data_공공데이터.csv', index=False, encoding='utf-8-sig')"
   ]
  },
  {
   "cell_type": "markdown",
   "id": "16b82c95-5d95-4d87-b8fb-b207b6414cc7",
   "metadata": {},
   "source": [
    "### 식품의약품안전처\n",
    "- https://various.foodsafetykorea.go.kr/nutrient/"
   ]
  },
  {
   "cell_type": "markdown",
   "id": "0e141877-cc34-4491-8ff6-831f560a2972",
   "metadata": {},
   "source": [
    "**가공식품**"
   ]
  },
  {
   "cell_type": "code",
   "execution_count": 7,
   "id": "095c7794-d173-40b2-8ac4-9cc7ccb221a3",
   "metadata": {},
   "outputs": [],
   "source": [
    "# Excel 파일 Load\n",
    "df = pd.read_excel(file_path + '식품의약품안전처_가공식품.xlsx')"
   ]
  },
  {
   "cell_type": "code",
   "execution_count": 8,
   "id": "945e2140-1aa3-45da-b673-54f708f9eb43",
   "metadata": {},
   "outputs": [],
   "source": [
    "# 주어진 컬럼들에 null값이 없는 데이터 추출\n",
    "required_columns = ['에너지\\n(kcal)', '영양성분기준용량', '단백질\\n(g)', '지방\\n(g)', '탄수화물\\n(g)', '당류\\n(g)', '나트륨\\n(mg)', '식이섬유\\n(g)']\n",
    "filtered_df = df[df[required_columns].notnull().all(axis=1)]"
   ]
  },
  {
   "cell_type": "code",
   "execution_count": 9,
   "id": "936257bf-b1c2-4111-8198-e8e41c0d8e37",
   "metadata": {},
   "outputs": [],
   "source": [
    "# 총 인스턴스 개수 파악\n",
    "total_instances = len(filtered_df)"
   ]
  },
  {
   "cell_type": "code",
   "execution_count": 10,
   "id": "976df9b9-f99a-453b-821a-6f052b1aaa46",
   "metadata": {},
   "outputs": [
    {
     "name": "stdout",
     "output_type": "stream",
     "text": [
      "\n",
      "총 인스턴스 개수: 722개\n"
     ]
    }
   ],
   "source": [
    "print(f\"\\n총 인스턴스 개수: {total_instances}개\")"
   ]
  },
  {
   "cell_type": "code",
   "execution_count": 11,
   "id": "a4ee5f2e-8f89-4e87-8382-61d56fdd8305",
   "metadata": {},
   "outputs": [],
   "source": [
    "# # 필터링된 데이터를 CSV 파일로 저장\n",
    "# # utf-8-sig로 인코딩하여 한글 깨짐 방지\n",
    "# filtered_df.to_csv('02_filtered_data_식품의약처_가공.csv', index=False, encoding='utf-8-sig')"
   ]
  },
  {
   "cell_type": "markdown",
   "id": "5f522df7-9ddb-4d82-af6a-7b9b2bb340c5",
   "metadata": {},
   "source": [
    "**음식**"
   ]
  }
 ],
 "metadata": {
  "jupytext": {
   "formats": "ipynb,auto:light"
  },
  "kernelspec": {
   "display_name": "eatceed2",
   "language": "python",
   "name": "eatceed2"
  },
  "language_info": {
   "codemirror_mode": {
    "name": "ipython",
    "version": 3
   },
   "file_extension": ".py",
   "mimetype": "text/x-python",
   "name": "python",
   "nbconvert_exporter": "python",
   "pygments_lexer": "ipython3",
   "version": "3.11.5"
  }
 },
 "nbformat": 4,
 "nbformat_minor": 5
}
