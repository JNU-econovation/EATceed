{
 "cells": [
  {
   "cell_type": "markdown",
   "id": "622293e1-072d-4ece-841f-f82920f11d5b",
   "metadata": {},
   "source": [
    "## 1. 라이브러리 설치"
   ]
  },
  {
   "cell_type": "code",
   "execution_count": 1,
   "id": "55218eaf-b8ae-48fd-a243-3d9c5b7a5307",
   "metadata": {},
   "outputs": [],
   "source": [
    "# pandas 설치\n",
    "import pandas as pd"
   ]
  },
  {
   "cell_type": "code",
   "execution_count": 2,
   "id": "6ccad394-5dd1-4aa5-bdb3-66193c68e1f1",
   "metadata": {},
   "outputs": [],
   "source": [
    "# 환경변수 \n",
    "from dotenv import load_dotenv\n",
    "import os\n",
    "\n",
    "load_dotenv()\n",
    "\n",
    "file_path = os.environ.get('RAW_DATA_PATH')"
   ]
  },
  {
   "cell_type": "markdown",
   "id": "effd779e-40a6-4a47-84ab-4c85ac8fff85",
   "metadata": {},
   "source": [
    "## 2. 데이터 수집\n",
    "- 데이터 수집 후 필요 속성 null이 없는 데이터셋 구축"
   ]
  },
  {
   "cell_type": "markdown",
   "id": "13407701-dd05-4c81-b075-c1377d0e5dae",
   "metadata": {},
   "source": [
    "### 공공 데이터 포털\n",
    "- https://www.data.go.kr/data/15100070/standard.do?recommendDataYn=Y"
   ]
  },
  {
   "cell_type": "code",
   "execution_count": 3,
   "id": "5567b375-3986-4fd4-9967-d270b90b553b",
   "metadata": {},
   "outputs": [],
   "source": [
    "# csv파일 Load\n",
    "try:\n",
    "    df = pd.read_csv(file_path + '전국통합식품영양성분정보 표준데이터.csv', encoding='utf-8')\n",
    "except UnicodeDecodeError:\n",
    "    try:\n",
    "        df = pd.read_csv(file_path + '전국통합식품영양성분정보 표준데이터.csv', encoding='cp949')\n",
    "    except Exception as e:\n",
    "        print(f\"Error: {e}\")"
   ]
  },
  {
   "cell_type": "markdown",
   "id": "16b82c95-5d95-4d87-b8fb-b207b6414cc7",
   "metadata": {},
   "source": [
    "### 식품의약품안전처\n",
    "- https://various.foodsafetykorea.go.kr/nutrient/"
   ]
  },
  {
   "cell_type": "code",
   "execution_count": null,
   "id": "80373da5-8ef8-4138-b25e-0efcfaaaeb85",
   "metadata": {},
   "outputs": [],
   "source": []
  },
  {
   "cell_type": "code",
   "execution_count": null,
   "id": "d85c21ee-770f-4154-bd62-e38fbb39ac70",
   "metadata": {},
   "outputs": [],
   "source": []
  }
 ],
 "metadata": {
  "jupytext": {
   "formats": "ipynb,auto:light"
  },
  "kernelspec": {
   "display_name": "eatceed2",
   "language": "python",
   "name": "eatceed2"
  },
  "language_info": {
   "codemirror_mode": {
    "name": "ipython",
    "version": 3
   },
   "file_extension": ".py",
   "mimetype": "text/x-python",
   "name": "python",
   "nbconvert_exporter": "python",
   "pygments_lexer": "ipython3",
   "version": "3.11.5"
  }
 },
 "nbformat": 4,
 "nbformat_minor": 5
}
