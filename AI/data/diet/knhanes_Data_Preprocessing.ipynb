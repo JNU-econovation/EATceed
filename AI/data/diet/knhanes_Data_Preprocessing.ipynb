{
 "cells": [
  {
   "cell_type": "markdown",
   "id": "62cb6d11",
   "metadata": {},
   "source": [
    "## 1. 패키지 로드 및 경로 설정"
   ]
  },
  {
   "cell_type": "code",
   "execution_count": 1,
   "id": "a42316f8",
   "metadata": {},
   "outputs": [],
   "source": [
    "import os\n",
    "import dotenv\n",
    "import pandas as pd"
   ]
  },
  {
   "cell_type": "code",
   "execution_count": 3,
   "id": "b59cc930",
   "metadata": {},
   "outputs": [],
   "source": [
    "dotenv.load_dotenv()\n",
    "\n",
    "file_path = os.environ['FILE_PATH']"
   ]
  },
  {
   "cell_type": "markdown",
   "id": "8a3dfba0",
   "metadata": {},
   "source": [
    "## 2. 원본 데이터 로드 및 병합"
   ]
  },
  {
   "cell_type": "markdown",
   "id": "b3b6b819",
   "metadata": {},
   "source": [
    "https://knhanes.kdca.go.kr/knhanes/sub03/sub03_02_05.do\n",
    "\n",
    "- 2019 ~ 2022의 국민건강영양조사 데이터"
   ]
  },
  {
   "cell_type": "code",
   "execution_count": 6,
   "id": "cf4c72ae",
   "metadata": {},
   "outputs": [],
   "source": [
    "# 연도별 데이터 로드\n",
    "\n",
    "hn19 = pd.read_sas(file_path + 'Hn19_22_original/hn19_all.sas7bdat', format='sas7bdat')\n",
    "hn20 = pd.read_sas(file_path + 'Hn19_22_original/hn20_all.sas7bdat', format='sas7bdat')\n",
    "hn21 = pd.read_sas(file_path + 'Hn19_22_original/hn21_all.sas7bdat', format='sas7bdat')\n",
    "hn22 = pd.read_sas(file_path + 'Hn19_22_original/hn22_all_240111.sas7bdat', format='sas7bdat')"
   ]
  },
  {
   "cell_type": "code",
   "execution_count": 7,
   "id": "bd072bbf",
   "metadata": {
    "scrolled": true
   },
   "outputs": [
    {
     "name": "stdout",
     "output_type": "stream",
     "text": [
      "(8110, 912)\n",
      "(7359, 859)\n",
      "(7090, 864)\n",
      "(6265, 623)\n"
     ]
    }
   ],
   "source": [
    "print(hn19.shape)\n",
    "print(hn20.shape)\n",
    "print(hn21.shape)\n",
    "print(hn22.shape)"
   ]
  },
  {
   "cell_type": "code",
   "execution_count": 8,
   "id": "5b3457d0",
   "metadata": {},
   "outputs": [],
   "source": [
    "# 연도별 데이터 병합\n",
    "\n",
    "df_concat = pd.concat([hn19, hn20, hn21, hn22])"
   ]
  },
  {
   "cell_type": "code",
   "execution_count": 9,
   "id": "e170f51a",
   "metadata": {},
   "outputs": [],
   "source": [
    "# 전처리에 사용되는 열 선택\n",
    "\n",
    "columns = ['year', 'sex', 'age', 'DI1_dg', 'DI1_pr', 'DI2_dg', 'DI2_pr', 'DE2_dg',\n",
    "           'DE2_pr', 'DE1_dg', 'DE1_pr', 'BO1_1', 'BO1_2', 'BO1_3', 'BO2_1', 'HE_HP',\n",
    "           'HE_ht', 'HE_wt', 'HE_wc', 'HE_BMI', 'HE_obe', 'HE_DM_HbA1c', 'HE_HCHOL',\n",
    "           'HE_HTG', 'N_INTK', 'N_EN', 'N_WATER', 'N_PROT', 'N_FAT', 'N_SFA', 'N_MUFA',\n",
    "           'N_PUFA', 'N_CHOL', 'N_CHO', 'N_TDF', 'N_SUGAR', 'N_NA', 'BE3_71', 'BE3_72',\n",
    "           'BE3_73', 'BE3_81', 'BE3_82', 'BE3_83', 'BE3_75', 'BE3_76', 'BE3_77', 'BE3_85',\n",
    "           'BE3_86', 'BE3_87', 'BE8_1', 'BE3_31', 'BE3_32', 'BE3_33', 'BE5_1', 'pa_aerobic']"
   ]
  },
  {
   "cell_type": "code",
   "execution_count": 11,
   "id": "b81cdeb5",
   "metadata": {},
   "outputs": [
    {
     "name": "stdout",
     "output_type": "stream",
     "text": [
      "(28824, 55)\n"
     ]
    }
   ],
   "source": [
    "df_concat = df_concat[columns]\n",
    "print(df_concat.shape)"
   ]
  },
  {
   "cell_type": "code",
   "execution_count": 12,
   "id": "0d580df1",
   "metadata": {},
   "outputs": [],
   "source": [
    "# 열 이름 번역\n",
    "\n",
    "korean_columns = {\n",
    "    'year': '조사연도', 'sex': '성별', 'age': '만나이',\n",
    "    'DI1_dg': '고혈압 의사진단여부', 'DI1_pr': '고혈압 현재 유병 여부',\n",
    "    'DI2_dg': '이상지질혈증 의사진단여부', 'DI2_pr': '이상지질혈증 현재 유병 여부',\n",
    "    'DE2_dg': '갑상선 질환 의사진단여부', 'DE2_pr': '갑상선 질환 현재 유병 여부',\n",
    "    'DE1_dg': '당뇨병 의사진단여부', 'DE1_pr': '당뇨병 현재 유병 여부',\n",
    "    'BO1_1': '(성인) 1년간 체중 변화 여부', 'BO1_2': '1년간 체중 감소량', 'BO1_3': '1년간 체중 증가량',\n",
    "    'BO2_1': '1년간 체중 조절 여부', 'HE_HP': '고혈압 유병여부(19세이상)',\n",
    "    'HE_ht': '신장', 'HE_wt': '체중', 'HE_wc': '허리둘레', 'HE_BMI': '체질량지수',\n",
    "    'HE_obe': '비만 유병여부(19세이상)', 'HE_DM_HbA1c': '당뇨병(당화혈색소 포함) 유병여부(19세이상)',\n",
    "    'HE_HCHOL': '고콜레스테롤혈증 유병여부(19세이상)', 'HE_HTG': '고중성지방혈증 유병여부(19세이상)',\n",
    "    'N_INTK': '식품섭취량(g)', 'N_EN': '에너지 섭취량(kcal)', 'N_WATER': '수분 섭취량(g)',\n",
    "    'N_PROT': '단백질 섭취량(g)', 'N_FAT': '지방 섭취량(g)', 'N_SFA': '포화지방산 섭취량(g)',\n",
    "    'N_MUFA': '단일불포화지방산 섭취량(g)', 'N_PUFA': '다가불포화지방산 섭취량(g)',\n",
    "    'N_CHOL': '콜레스테롤 섭취량(mg)', 'N_CHO': '탄수화물 섭취량(g)', 'N_TDF': '식이섬유 섭취량(g)',\n",
    "    'N_SUGAR': '당 섭취량(g)', 'N_NA': '나트륨 섭취량(mg)',\n",
    "    'BE3_71': '고강도 신체활동 여부: 일', 'BE3_72': '고강도 신체활동 일수: 일',\n",
    "    'BE3_73': '고강도 신체활동 시간(시간): 일',\n",
    "    'BE3_81': '중강도 신체활동 여부: 일', 'BE3_82': '중강도 신체활동 일수: 일',\n",
    "    'BE3_83': '중강도 신체활동 시간(시간): 일',\n",
    "    'BE3_91': '신체활동 여부: 장소이동', 'BE3_92': '신체활동 일수: 장소이동',\n",
    "    'BE3_93': '신체활동 시간(시간): 장소이동',\n",
    "    'BE3_75': '고강도 신체활동 여부: 여가', 'BE3_76': '고강도 신체활동 일수: 여가',\n",
    "    'BE3_77': '고강도 신체활동 시간(시간): 여가',\n",
    "    'BE3_85': '중강도 신체활동 여부: 여가', 'BE3_86': '중강도 신체활동 일수: 여가',\n",
    "    'BE3_87': '중강도 신체활동 시간(시간): 여가',\n",
    "    'BE3_31': '1주일간 걷기 일수', 'BE3_32': '걷기 지속 시간(시간)', 'BE3_33': '걷기 지속 시간(분)',\n",
    "    'BE8_1': '평소 하루 앉아서 보내는 시간(시간)',\n",
    "    'BE5_1': '1주일간 근력운동 일수', 'pa_aerobic': '유산소 신체활동 실천율'\n",
    "}"
   ]
  },
  {
   "cell_type": "code",
   "execution_count": 13,
   "id": "63e42371",
   "metadata": {},
   "outputs": [],
   "source": [
    "# 번역된 이름으로 열 이름 변경\n",
    "\n",
    "df_concat = df_concat.rename(columns = korean_columns)"
   ]
  },
  {
   "cell_type": "code",
   "execution_count": 14,
   "id": "53c7672b",
   "metadata": {},
   "outputs": [
    {
     "data": {
      "text/html": [
       "<div>\n",
       "<style scoped>\n",
       "    .dataframe tbody tr th:only-of-type {\n",
       "        vertical-align: middle;\n",
       "    }\n",
       "\n",
       "    .dataframe tbody tr th {\n",
       "        vertical-align: top;\n",
       "    }\n",
       "\n",
       "    .dataframe thead th {\n",
       "        text-align: right;\n",
       "    }\n",
       "</style>\n",
       "<table border=\"1\" class=\"dataframe\">\n",
       "  <thead>\n",
       "    <tr style=\"text-align: right;\">\n",
       "      <th></th>\n",
       "      <th>조사연도</th>\n",
       "      <th>성별</th>\n",
       "      <th>만나이</th>\n",
       "      <th>고혈압 의사진단여부</th>\n",
       "      <th>고혈압 현재 유병 여부</th>\n",
       "      <th>이상지질혈증 의사진단여부</th>\n",
       "      <th>이상지질혈증 현재 유병 여부</th>\n",
       "      <th>갑상선 질환 의사진단여부</th>\n",
       "      <th>갑상선 질환 현재 유병 여부</th>\n",
       "      <th>당뇨병 의사진단여부</th>\n",
       "      <th>...</th>\n",
       "      <th>고강도 신체활동 시간(시간): 여가</th>\n",
       "      <th>중강도 신체활동 여부: 여가</th>\n",
       "      <th>중강도 신체활동 일수: 여가</th>\n",
       "      <th>중강도 신체활동 시간(시간): 여가</th>\n",
       "      <th>평소 하루 앉아서 보내는 시간(시간)</th>\n",
       "      <th>1주일간 걷기 일수</th>\n",
       "      <th>걷기 지속 시간(시간)</th>\n",
       "      <th>걷기 지속 시간(분)</th>\n",
       "      <th>1주일간 근력운동 일수</th>\n",
       "      <th>유산소 신체활동 실천율</th>\n",
       "    </tr>\n",
       "  </thead>\n",
       "  <tbody>\n",
       "    <tr>\n",
       "      <th>0</th>\n",
       "      <td>2019.0</td>\n",
       "      <td>1.0</td>\n",
       "      <td>61.0</td>\n",
       "      <td>1.0</td>\n",
       "      <td>1.0</td>\n",
       "      <td>0.0</td>\n",
       "      <td>8.0</td>\n",
       "      <td>0.0</td>\n",
       "      <td>8.0</td>\n",
       "      <td>0.0</td>\n",
       "      <td>...</td>\n",
       "      <td>88.0</td>\n",
       "      <td>2.0</td>\n",
       "      <td>8.0</td>\n",
       "      <td>88.0</td>\n",
       "      <td>14.0</td>\n",
       "      <td>4.0</td>\n",
       "      <td>0.0</td>\n",
       "      <td>20.0</td>\n",
       "      <td>1.0</td>\n",
       "      <td>0.0</td>\n",
       "    </tr>\n",
       "    <tr>\n",
       "      <th>1</th>\n",
       "      <td>2019.0</td>\n",
       "      <td>1.0</td>\n",
       "      <td>28.0</td>\n",
       "      <td>0.0</td>\n",
       "      <td>8.0</td>\n",
       "      <td>0.0</td>\n",
       "      <td>8.0</td>\n",
       "      <td>0.0</td>\n",
       "      <td>8.0</td>\n",
       "      <td>0.0</td>\n",
       "      <td>...</td>\n",
       "      <td>88.0</td>\n",
       "      <td>2.0</td>\n",
       "      <td>8.0</td>\n",
       "      <td>88.0</td>\n",
       "      <td>10.0</td>\n",
       "      <td>4.0</td>\n",
       "      <td>0.0</td>\n",
       "      <td>30.0</td>\n",
       "      <td>4.0</td>\n",
       "      <td>0.0</td>\n",
       "    </tr>\n",
       "    <tr>\n",
       "      <th>2</th>\n",
       "      <td>2019.0</td>\n",
       "      <td>1.0</td>\n",
       "      <td>53.0</td>\n",
       "      <td>0.0</td>\n",
       "      <td>8.0</td>\n",
       "      <td>0.0</td>\n",
       "      <td>8.0</td>\n",
       "      <td>0.0</td>\n",
       "      <td>8.0</td>\n",
       "      <td>0.0</td>\n",
       "      <td>...</td>\n",
       "      <td>88.0</td>\n",
       "      <td>2.0</td>\n",
       "      <td>8.0</td>\n",
       "      <td>88.0</td>\n",
       "      <td>11.0</td>\n",
       "      <td>4.0</td>\n",
       "      <td>1.0</td>\n",
       "      <td>0.0</td>\n",
       "      <td>2.0</td>\n",
       "      <td>0.0</td>\n",
       "    </tr>\n",
       "    <tr>\n",
       "      <th>3</th>\n",
       "      <td>2019.0</td>\n",
       "      <td>2.0</td>\n",
       "      <td>50.0</td>\n",
       "      <td>0.0</td>\n",
       "      <td>8.0</td>\n",
       "      <td>0.0</td>\n",
       "      <td>8.0</td>\n",
       "      <td>0.0</td>\n",
       "      <td>8.0</td>\n",
       "      <td>0.0</td>\n",
       "      <td>...</td>\n",
       "      <td>88.0</td>\n",
       "      <td>2.0</td>\n",
       "      <td>8.0</td>\n",
       "      <td>88.0</td>\n",
       "      <td>8.0</td>\n",
       "      <td>3.0</td>\n",
       "      <td>1.0</td>\n",
       "      <td>0.0</td>\n",
       "      <td>1.0</td>\n",
       "      <td>1.0</td>\n",
       "    </tr>\n",
       "    <tr>\n",
       "      <th>4</th>\n",
       "      <td>2019.0</td>\n",
       "      <td>1.0</td>\n",
       "      <td>16.0</td>\n",
       "      <td>NaN</td>\n",
       "      <td>NaN</td>\n",
       "      <td>NaN</td>\n",
       "      <td>NaN</td>\n",
       "      <td>NaN</td>\n",
       "      <td>NaN</td>\n",
       "      <td>NaN</td>\n",
       "      <td>...</td>\n",
       "      <td>NaN</td>\n",
       "      <td>NaN</td>\n",
       "      <td>NaN</td>\n",
       "      <td>NaN</td>\n",
       "      <td>NaN</td>\n",
       "      <td>NaN</td>\n",
       "      <td>NaN</td>\n",
       "      <td>NaN</td>\n",
       "      <td>NaN</td>\n",
       "      <td>NaN</td>\n",
       "    </tr>\n",
       "    <tr>\n",
       "      <th>...</th>\n",
       "      <td>...</td>\n",
       "      <td>...</td>\n",
       "      <td>...</td>\n",
       "      <td>...</td>\n",
       "      <td>...</td>\n",
       "      <td>...</td>\n",
       "      <td>...</td>\n",
       "      <td>...</td>\n",
       "      <td>...</td>\n",
       "      <td>...</td>\n",
       "      <td>...</td>\n",
       "      <td>...</td>\n",
       "      <td>...</td>\n",
       "      <td>...</td>\n",
       "      <td>...</td>\n",
       "      <td>...</td>\n",
       "      <td>...</td>\n",
       "      <td>...</td>\n",
       "      <td>...</td>\n",
       "      <td>...</td>\n",
       "      <td>...</td>\n",
       "    </tr>\n",
       "    <tr>\n",
       "      <th>6260</th>\n",
       "      <td>2022.0</td>\n",
       "      <td>2.0</td>\n",
       "      <td>66.0</td>\n",
       "      <td>0.0</td>\n",
       "      <td>8.0</td>\n",
       "      <td>0.0</td>\n",
       "      <td>8.0</td>\n",
       "      <td>NaN</td>\n",
       "      <td>NaN</td>\n",
       "      <td>1.0</td>\n",
       "      <td>...</td>\n",
       "      <td>88.0</td>\n",
       "      <td>2.0</td>\n",
       "      <td>8.0</td>\n",
       "      <td>88.0</td>\n",
       "      <td>7.0</td>\n",
       "      <td>8.0</td>\n",
       "      <td>0.0</td>\n",
       "      <td>40.0</td>\n",
       "      <td>1.0</td>\n",
       "      <td>0.0</td>\n",
       "    </tr>\n",
       "    <tr>\n",
       "      <th>6261</th>\n",
       "      <td>2022.0</td>\n",
       "      <td>2.0</td>\n",
       "      <td>80.0</td>\n",
       "      <td>0.0</td>\n",
       "      <td>8.0</td>\n",
       "      <td>0.0</td>\n",
       "      <td>8.0</td>\n",
       "      <td>NaN</td>\n",
       "      <td>NaN</td>\n",
       "      <td>0.0</td>\n",
       "      <td>...</td>\n",
       "      <td>99.0</td>\n",
       "      <td>9.0</td>\n",
       "      <td>9.0</td>\n",
       "      <td>99.0</td>\n",
       "      <td>99.0</td>\n",
       "      <td>99.0</td>\n",
       "      <td>99.0</td>\n",
       "      <td>99.0</td>\n",
       "      <td>9.0</td>\n",
       "      <td>NaN</td>\n",
       "    </tr>\n",
       "    <tr>\n",
       "      <th>6262</th>\n",
       "      <td>2022.0</td>\n",
       "      <td>1.0</td>\n",
       "      <td>58.0</td>\n",
       "      <td>1.0</td>\n",
       "      <td>1.0</td>\n",
       "      <td>1.0</td>\n",
       "      <td>1.0</td>\n",
       "      <td>NaN</td>\n",
       "      <td>NaN</td>\n",
       "      <td>0.0</td>\n",
       "      <td>...</td>\n",
       "      <td>99.0</td>\n",
       "      <td>9.0</td>\n",
       "      <td>9.0</td>\n",
       "      <td>99.0</td>\n",
       "      <td>99.0</td>\n",
       "      <td>99.0</td>\n",
       "      <td>99.0</td>\n",
       "      <td>99.0</td>\n",
       "      <td>9.0</td>\n",
       "      <td>NaN</td>\n",
       "    </tr>\n",
       "    <tr>\n",
       "      <th>6263</th>\n",
       "      <td>2022.0</td>\n",
       "      <td>1.0</td>\n",
       "      <td>77.0</td>\n",
       "      <td>0.0</td>\n",
       "      <td>8.0</td>\n",
       "      <td>0.0</td>\n",
       "      <td>8.0</td>\n",
       "      <td>NaN</td>\n",
       "      <td>NaN</td>\n",
       "      <td>1.0</td>\n",
       "      <td>...</td>\n",
       "      <td>88.0</td>\n",
       "      <td>1.0</td>\n",
       "      <td>6.0</td>\n",
       "      <td>0.0</td>\n",
       "      <td>10.0</td>\n",
       "      <td>8.0</td>\n",
       "      <td>2.0</td>\n",
       "      <td>0.0</td>\n",
       "      <td>6.0</td>\n",
       "      <td>1.0</td>\n",
       "    </tr>\n",
       "    <tr>\n",
       "      <th>6264</th>\n",
       "      <td>2022.0</td>\n",
       "      <td>2.0</td>\n",
       "      <td>75.0</td>\n",
       "      <td>1.0</td>\n",
       "      <td>1.0</td>\n",
       "      <td>1.0</td>\n",
       "      <td>1.0</td>\n",
       "      <td>NaN</td>\n",
       "      <td>NaN</td>\n",
       "      <td>0.0</td>\n",
       "      <td>...</td>\n",
       "      <td>88.0</td>\n",
       "      <td>2.0</td>\n",
       "      <td>8.0</td>\n",
       "      <td>88.0</td>\n",
       "      <td>10.0</td>\n",
       "      <td>8.0</td>\n",
       "      <td>1.0</td>\n",
       "      <td>0.0</td>\n",
       "      <td>1.0</td>\n",
       "      <td>0.0</td>\n",
       "    </tr>\n",
       "  </tbody>\n",
       "</table>\n",
       "<p>28824 rows × 55 columns</p>\n",
       "</div>"
      ],
      "text/plain": [
       "        조사연도   성별   만나이  고혈압 의사진단여부  고혈압 현재 유병 여부  이상지질혈증 의사진단여부  \\\n",
       "0     2019.0  1.0  61.0         1.0           1.0            0.0   \n",
       "1     2019.0  1.0  28.0         0.0           8.0            0.0   \n",
       "2     2019.0  1.0  53.0         0.0           8.0            0.0   \n",
       "3     2019.0  2.0  50.0         0.0           8.0            0.0   \n",
       "4     2019.0  1.0  16.0         NaN           NaN            NaN   \n",
       "...      ...  ...   ...         ...           ...            ...   \n",
       "6260  2022.0  2.0  66.0         0.0           8.0            0.0   \n",
       "6261  2022.0  2.0  80.0         0.0           8.0            0.0   \n",
       "6262  2022.0  1.0  58.0         1.0           1.0            1.0   \n",
       "6263  2022.0  1.0  77.0         0.0           8.0            0.0   \n",
       "6264  2022.0  2.0  75.0         1.0           1.0            1.0   \n",
       "\n",
       "      이상지질혈증 현재 유병 여부  갑상선 질환 의사진단여부  갑상선 질환 현재 유병 여부  당뇨병 의사진단여부  ...  \\\n",
       "0                 8.0            0.0              8.0         0.0  ...   \n",
       "1                 8.0            0.0              8.0         0.0  ...   \n",
       "2                 8.0            0.0              8.0         0.0  ...   \n",
       "3                 8.0            0.0              8.0         0.0  ...   \n",
       "4                 NaN            NaN              NaN         NaN  ...   \n",
       "...               ...            ...              ...         ...  ...   \n",
       "6260              8.0            NaN              NaN         1.0  ...   \n",
       "6261              8.0            NaN              NaN         0.0  ...   \n",
       "6262              1.0            NaN              NaN         0.0  ...   \n",
       "6263              8.0            NaN              NaN         1.0  ...   \n",
       "6264              1.0            NaN              NaN         0.0  ...   \n",
       "\n",
       "      고강도 신체활동 시간(시간): 여가  중강도 신체활동 여부: 여가  중강도 신체활동 일수: 여가  \\\n",
       "0                    88.0              2.0              8.0   \n",
       "1                    88.0              2.0              8.0   \n",
       "2                    88.0              2.0              8.0   \n",
       "3                    88.0              2.0              8.0   \n",
       "4                     NaN              NaN              NaN   \n",
       "...                   ...              ...              ...   \n",
       "6260                 88.0              2.0              8.0   \n",
       "6261                 99.0              9.0              9.0   \n",
       "6262                 99.0              9.0              9.0   \n",
       "6263                 88.0              1.0              6.0   \n",
       "6264                 88.0              2.0              8.0   \n",
       "\n",
       "      중강도 신체활동 시간(시간): 여가  평소 하루 앉아서 보내는 시간(시간)  1주일간 걷기 일수  걷기 지속 시간(시간)  \\\n",
       "0                    88.0                  14.0         4.0           0.0   \n",
       "1                    88.0                  10.0         4.0           0.0   \n",
       "2                    88.0                  11.0         4.0           1.0   \n",
       "3                    88.0                   8.0         3.0           1.0   \n",
       "4                     NaN                   NaN         NaN           NaN   \n",
       "...                   ...                   ...         ...           ...   \n",
       "6260                 88.0                   7.0         8.0           0.0   \n",
       "6261                 99.0                  99.0        99.0          99.0   \n",
       "6262                 99.0                  99.0        99.0          99.0   \n",
       "6263                  0.0                  10.0         8.0           2.0   \n",
       "6264                 88.0                  10.0         8.0           1.0   \n",
       "\n",
       "      걷기 지속 시간(분)  1주일간 근력운동 일수  유산소 신체활동 실천율  \n",
       "0            20.0           1.0           0.0  \n",
       "1            30.0           4.0           0.0  \n",
       "2             0.0           2.0           0.0  \n",
       "3             0.0           1.0           1.0  \n",
       "4             NaN           NaN           NaN  \n",
       "...           ...           ...           ...  \n",
       "6260         40.0           1.0           0.0  \n",
       "6261         99.0           9.0           NaN  \n",
       "6262         99.0           9.0           NaN  \n",
       "6263          0.0           6.0           1.0  \n",
       "6264          0.0           1.0           0.0  \n",
       "\n",
       "[28824 rows x 55 columns]"
      ]
     },
     "execution_count": 14,
     "metadata": {},
     "output_type": "execute_result"
    }
   ],
   "source": [
    "# 데이터 확인\n",
    "\n",
    "df_concat"
   ]
  },
  {
   "cell_type": "code",
   "execution_count": 15,
   "id": "7ebe6e22",
   "metadata": {},
   "outputs": [],
   "source": [
    "# 병합된 데이터 저장\n",
    "\n",
    "df_concat.to_csv(file_path + 'Hn19_22_new.csv', encoding = 'cp949', index = False)"
   ]
  },
  {
   "cell_type": "markdown",
   "id": "26d5df4f",
   "metadata": {},
   "source": [
    "## 3. 데이터 전처리"
   ]
  },
  {
   "cell_type": "code",
   "execution_count": 16,
   "id": "5b839a99",
   "metadata": {},
   "outputs": [
    {
     "name": "stdout",
     "output_type": "stream",
     "text": [
      "(28824, 55)\n"
     ]
    }
   ],
   "source": [
    "df = df_concat\n",
    "print(df.shape)"
   ]
  },
  {
   "cell_type": "markdown",
   "id": "725f7944",
   "metadata": {},
   "source": [
    "### 3-1. 체중 변화 (감소 or 증가) 열의 값이 없으면 제외"
   ]
  },
  {
   "cell_type": "markdown",
   "id": "a8ab9bec",
   "metadata": {},
   "source": [
    "- '(성인) 1년간 체중 변화 여부' 열의 값이 null 인 경우"
   ]
  },
  {
   "cell_type": "code",
   "execution_count": 17,
   "id": "5c8e8935",
   "metadata": {},
   "outputs": [],
   "source": [
    "df = df.dropna(subset = ['(성인) 1년간 체중 변화 여부'])"
   ]
  },
  {
   "cell_type": "code",
   "execution_count": 18,
   "id": "38cdc15b",
   "metadata": {},
   "outputs": [
    {
     "name": "stdout",
     "output_type": "stream",
     "text": [
      "0\n"
     ]
    }
   ],
   "source": [
    "null_values = df['(성인) 1년간 체중 변화 여부'].isna().sum()\n",
    "print(null_values)"
   ]
  },
  {
   "cell_type": "markdown",
   "id": "cc9ad9a1",
   "metadata": {},
   "source": [
    "### 3-2. 성인인 경우의 데이터만 선택"
   ]
  },
  {
   "cell_type": "markdown",
   "id": "0c930500",
   "metadata": {},
   "source": [
    "- 19 ≤ 만 나이 ≤ 39"
   ]
  },
  {
   "cell_type": "code",
   "execution_count": 19,
   "id": "326ac040",
   "metadata": {},
   "outputs": [
    {
     "name": "stdout",
     "output_type": "stream",
     "text": [
      "(5856, 55)\n"
     ]
    }
   ],
   "source": [
    "df = df[(df['만나이'] >= 19) & (df['만나이'] <= 39)]\n",
    "print(df.shape)"
   ]
  },
  {
   "cell_type": "markdown",
   "id": "12a22cb6",
   "metadata": {},
   "source": [
    "### 3-3. 질환이 있는 경우 제외"
   ]
  },
  {
   "cell_type": "markdown",
   "id": "e7a08045",
   "metadata": {},
   "source": [
    "- 질환 관련 열의 값이 1 (있음)인 경우 제외"
   ]
  },
  {
   "cell_type": "code",
   "execution_count": 20,
   "id": "cdad3698",
   "metadata": {},
   "outputs": [
    {
     "name": "stdout",
     "output_type": "stream",
     "text": [
      "(4851, 55)\n"
     ]
    }
   ],
   "source": [
    "colums_1 = ['고혈압 의사진단여부', '고혈압 현재 유병 여부', '이상지질혈증 의사진단여부', '이상지질혈증 현재 유병 여부',\n",
    "          '갑상선 질환 의사진단여부', '갑상선 질환 현재 유병 여부', '당뇨병 의사진단여부', '당뇨병 현재 유병 여부',\n",
    "          '고콜레스테롤혈증 유병여부(19세이상)', '고중성지방혈증 유병여부(19세이상)']\n",
    "\n",
    "for column in colums_1:\n",
    "    df = df[df[column] != 1]\n",
    "\n",
    "print(df.shape)"
   ]
  },
  {
   "cell_type": "markdown",
   "id": "08451530",
   "metadata": {},
   "source": [
    "- 고혈압 or 당뇨병 유병여부 열의 값이 3 (있음)인 경우 제외"
   ]
  },
  {
   "cell_type": "code",
   "execution_count": 21,
   "id": "b17a80fc",
   "metadata": {},
   "outputs": [
    {
     "name": "stdout",
     "output_type": "stream",
     "text": [
      "(4585, 55)\n"
     ]
    }
   ],
   "source": [
    "colums_3 = ['고혈압 유병여부(19세이상)', '당뇨병(당화혈색소 포함) 유병여부(19세이상)']\n",
    "\n",
    "for column in colums_3:\n",
    "    df = df[df[column] != 3]\n",
    "\n",
    "print(df.shape)"
   ]
  },
  {
   "cell_type": "markdown",
   "id": "f577db7b",
   "metadata": {},
   "source": [
    "- 전처리에 사용된 질환 관련 열 삭제"
   ]
  },
  {
   "cell_type": "code",
   "execution_count": 22,
   "id": "2c38018a",
   "metadata": {},
   "outputs": [],
   "source": [
    "dia_columns = ['고혈압 의사진단여부', '고혈압 현재 유병 여부', '이상지질혈증 의사진단여부', '이상지질혈증 현재 유병 여부',\n",
    "                '갑상선 질환 의사진단여부', '갑상선 질환 현재 유병 여부', '당뇨병 의사진단여부', '당뇨병 현재 유병 여부',\n",
    "                '고혈압 유병여부(19세이상)', '당뇨병(당화혈색소 포함) 유병여부(19세이상)', '고콜레스테롤혈증 유병여부(19세이상)',\n",
    "                '고중성지방혈증 유병여부(19세이상)']\n",
    "\n",
    "df = df.drop(columns = dia_columns)"
   ]
  },
  {
   "cell_type": "markdown",
   "id": "586eaf9b",
   "metadata": {},
   "source": [
    "### 3-4. 섭취량 정보가 없는 경우 제외"
   ]
  },
  {
   "cell_type": "code",
   "execution_count": 23,
   "id": "456c26a6",
   "metadata": {},
   "outputs": [
    {
     "name": "stdout",
     "output_type": "stream",
     "text": [
      "(3793, 43)\n"
     ]
    }
   ],
   "source": [
    "columns_intake = ['식품섭취량(g)', '에너지 섭취량(kcal)', '수분 섭취량(g)', '단백질 섭취량(g)', '지방 섭취량(g)',\n",
    "                  '포화지방산 섭취량(g)', '단일불포화지방산 섭취량(g)', '다가불포화지방산 섭취량(g)',\n",
    "                  '콜레스테롤 섭취량(mg)', '탄수화물 섭취량(g)', '식이섬유 섭취량(g)', '당 섭취량(g)', '나트륨 섭취량(mg)']\n",
    "\n",
    "df = df.dropna(subset = columns_intake)\n",
    "print(df.shape)"
   ]
  },
  {
   "cell_type": "markdown",
   "id": "0cd85327",
   "metadata": {},
   "source": [
    "### 3-5. 신체 활동 지수 열 추가"
   ]
  },
  {
   "cell_type": "code",
   "execution_count": null,
   "id": "17a0bb61",
   "metadata": {},
   "outputs": [],
   "source": [
    "# 신체 활동지수 열 생성 후 초기화\n",
    "\n",
    "df['신체 활동지수'] = 0"
   ]
  },
  {
   "cell_type": "markdown",
   "id": "fc7eeee0",
   "metadata": {},
   "source": [
    "**신체 활동지수 열의 값이 1인 경우 (좌식 생활)**"
   ]
  },
  {
   "cell_type": "markdown",
   "id": "e77d8bdb",
   "metadata": {},
   "source": [
    "- '평소 하루 앉아서 보내는 시간(시간)' 의 값이 9 이상 (9 to 6)\n",
    "- '걷기 지속 시간(시간)' 의 값이 0인 경우 (1시간 미만)\n",
    "- '1주일간 근력운동 일수' 의 값이 1인 경우 (근력 운동을 하지 않는 경우)\n",
    "- '유산소 신체활동 실천율' 의 값이 0인 경우 (실천하지 않는 경우)"
   ]
  },
  {
   "cell_type": "code",
   "execution_count": 24,
   "id": "057c1d0c",
   "metadata": {},
   "outputs": [],
   "source": [
    "condition_1 = (df['평소 하루 앉아서 보내는 시간(시간)'] >= 9) & (df['걷기 지속 시간(시간)'] == 0) & (df['1주일간 근력운동 일수'] == 1) & (df['유산소 신체활동 실천율'] == 0)\n",
    "indices = df[condition_1].index\n",
    "\n",
    "df.loc[indices, '신체 활동지수'] = 1"
   ]
  },
  {
   "cell_type": "markdown",
   "id": "8db17af2",
   "metadata": {},
   "source": [
    "**신체 활동지수 열의 값이 2인 경우 (가벼운 활동)**"
   ]
  },
  {
   "cell_type": "markdown",
   "id": "dffe95aa",
   "metadata": {},
   "source": [
    "- '1주일간 근력운동 일수' 의 값이 2 또는 3인 경우 (1 ~ 2일의 근력운동)"
   ]
  },
  {
   "cell_type": "code",
   "execution_count": 25,
   "id": "74044146",
   "metadata": {},
   "outputs": [],
   "source": [
    "# 신체 활동지수 열의 값이 2인 경우\n",
    "condition_2 = (df['1주일간 근력운동 일수'] == 2) | (df['1주일간 근력운동 일수'] == 3)\n",
    "\n",
    "indices = df[condition_2].index\n",
    "\n",
    "df.loc[indices, '신체 활동지수'] = 2"
   ]
  },
  {
   "cell_type": "markdown",
   "id": "962c041c",
   "metadata": {},
   "source": [
    "**신체 활동지수 열의 값이 3인 경우 (적당한 활동)**"
   ]
  },
  {
   "cell_type": "markdown",
   "id": "158c3220",
   "metadata": {},
   "source": [
    "- '1주일간 근력운동 일수' 의 값이 4 ~ 6인 경우 (3 ~ 5일의 근력운동)"
   ]
  },
  {
   "cell_type": "code",
   "execution_count": 26,
   "id": "a591225b",
   "metadata": {},
   "outputs": [],
   "source": [
    "condition_3 = (df['1주일간 근력운동 일수'] == 4) | (df['1주일간 근력운동 일수'] == 5) | (df['1주일간 근력운동 일수'] == 6)\n",
    "indices = df[condition_3].index\n",
    "\n",
    "df.loc[indices, '신체 활동지수'] = 3"
   ]
  },
  {
   "cell_type": "markdown",
   "id": "f864a680",
   "metadata": {},
   "source": [
    "**신체 활동지수 열의 값이 4인 경우 (고강도 운동)**"
   ]
  },
  {
   "cell_type": "markdown",
   "id": "b36fa413",
   "metadata": {},
   "source": [
    "- '고강도 신체활동 일수: 일' 의 값이 3 ~ 4인 경우 (3 ~ 4일)\n",
    "- '중강도 신체활동 일수: 일' 의 값이 6 ~ 7인 경우 (6 ~ 7일)\n",
    "- '고강도 신체활동 일수: 여가' 의 값이 3 ~ 4인 경우 (3 ~ 4일)\n",
    "- '중강도 신체활동 일수: 여가' 의 값이 6 ~ 7인 경우 (6 ~ 7일)"
   ]
  },
  {
   "cell_type": "code",
   "execution_count": 27,
   "id": "b672cbde",
   "metadata": {},
   "outputs": [],
   "source": [
    "condition_4 = (df['고강도 신체활동 일수: 일'].between(3, 4)) | (df['중강도 신체활동 일수: 일'].between(6, 7)) | (df['고강도 신체활동 일수: 여가'].between(3, 4)) | (df['중강도 신체활동 일수: 여가'].between(6, 7))\n",
    "\n",
    "indices = df[condition_4].index\n",
    "\n",
    "df.loc[indices, '신체 활동지수'] = 4"
   ]
  },
  {
   "cell_type": "markdown",
   "id": "1865f03e",
   "metadata": {},
   "source": [
    "**신체 활동지수 열의 값이 5인 경우 (운동선수 수준)**"
   ]
  },
  {
   "cell_type": "markdown",
   "id": "2c737530",
   "metadata": {},
   "source": [
    "- '고강도 신체활동 일수: 일' 의 값이 5 ~ 7인 경우 (5 ~ 7일)\n",
    "- '고강도 신체활동 일수: 여가' 의 값이 5 ~ 7인 경우 (5 ~ 7일)"
   ]
  },
  {
   "cell_type": "code",
   "execution_count": 28,
   "id": "38d513e1",
   "metadata": {},
   "outputs": [],
   "source": [
    "condition_5 = (df['고강도 신체활동 일수: 일'].between(5, 7)) | (df['고강도 신체활동 일수: 여가'].between(5, 7))\n",
    "\n",
    "indices = df[condition_5].index\n",
    "\n",
    "df.loc[indices, '신체 활동지수'] = 5"
   ]
  },
  {
   "cell_type": "markdown",
   "id": "ab0af60f",
   "metadata": {},
   "source": [
    "**신체 활동지수의 1 ~ 5 조건에 해당하지 않는 열의 값을 2 (가벼운 활동) 으로 변경**"
   ]
  },
  {
   "cell_type": "code",
   "execution_count": 29,
   "id": "27b1279a",
   "metadata": {},
   "outputs": [
    {
     "name": "stdout",
     "output_type": "stream",
     "text": [
      "        조사연도   성별   만나이  (성인) 1년간 체중 변화 여부  1년간 체중 감소량  1년간 체중 증가량  \\\n",
      "43    2019.0  1.0  29.0                3.0         8.0         1.0   \n",
      "50    2019.0  1.0  22.0                3.0         8.0         2.0   \n",
      "66    2019.0  2.0  32.0                3.0         8.0         3.0   \n",
      "88    2019.0  2.0  34.0                3.0         8.0         1.0   \n",
      "94    2019.0  2.0  33.0                1.0         8.0         8.0   \n",
      "...      ...  ...   ...                ...         ...         ...   \n",
      "6206  2022.0  2.0  31.0                3.0         8.0         1.0   \n",
      "6209  2022.0  1.0  36.0                1.0         8.0         8.0   \n",
      "6211  2022.0  2.0  30.0                3.0         8.0         1.0   \n",
      "6223  2022.0  1.0  24.0                1.0         8.0         8.0   \n",
      "6247  2022.0  1.0  36.0                2.0         1.0         8.0   \n",
      "\n",
      "      1년간 체중 조절 여부     신장    체중  허리둘레  ...  중강도 신체활동 여부: 여가  중강도 신체활동 일수: 여가  \\\n",
      "43             2.0  178.6  81.2  93.6  ...              2.0              8.0   \n",
      "50             4.0  169.0  67.2  84.9  ...              2.0              8.0   \n",
      "66             1.0  166.8  76.1  99.8  ...              2.0              8.0   \n",
      "88             1.0  162.3  62.0  78.7  ...              1.0              3.0   \n",
      "94             1.0  171.1  54.4  68.5  ...              2.0              8.0   \n",
      "...            ...    ...   ...   ...  ...              ...              ...   \n",
      "6206           1.0  165.9  64.1  81.2  ...              1.0              1.0   \n",
      "6209           2.0  182.0  73.7  85.7  ...              2.0              8.0   \n",
      "6211           2.0  164.3  54.1  68.5  ...              1.0              2.0   \n",
      "6223           4.0  178.2  58.7  74.2  ...              2.0              8.0   \n",
      "6247           4.0  174.8  71.7  82.2  ...              2.0              8.0   \n",
      "\n",
      "      중강도 신체활동 시간(시간): 여가  평소 하루 앉아서 보내는 시간(시간)  1주일간 걷기 일수  걷기 지속 시간(시간)  \\\n",
      "43                   88.0                  10.0         3.0           1.0   \n",
      "50                   88.0                  12.0         8.0           1.0   \n",
      "66                   88.0                   8.0         4.0           1.0   \n",
      "88                    0.0                   8.0         8.0           1.0   \n",
      "94                   88.0                   8.0         4.0           0.0   \n",
      "...                   ...                   ...         ...           ...   \n",
      "6206                  0.0                   6.0         8.0           0.0   \n",
      "6209                 88.0                  11.0         8.0           0.0   \n",
      "6211                  0.0                  11.0         6.0           0.0   \n",
      "6223                 88.0                  11.0         5.0           0.0   \n",
      "6247                 88.0                  13.0         1.0          88.0   \n",
      "\n",
      "      걷기 지속 시간(분)  1주일간 근력운동 일수  유산소 신체활동 실천율  신체 활동지수  \n",
      "43            0.0           1.0           0.0        0  \n",
      "50           30.0           1.0           1.0        0  \n",
      "66            0.0           1.0           0.0        0  \n",
      "88            0.0           1.0           0.0        0  \n",
      "94           30.0           1.0           0.0        0  \n",
      "...           ...           ...           ...      ...  \n",
      "6206         30.0           1.0           0.0        0  \n",
      "6209         30.0           1.0           1.0        0  \n",
      "6211         20.0           1.0           1.0        0  \n",
      "6223         20.0           1.0           1.0        0  \n",
      "6247         88.0           1.0           0.0        0  \n",
      "\n",
      "[1554 rows x 44 columns]\n"
     ]
    }
   ],
   "source": [
    "# '신체 활동지수' 열의 값이 0인 행 확인\n",
    "\n",
    "inactive_rows = df[df['신체 활동지수'] == 0]\n",
    "\n",
    "print(inactive_rows)"
   ]
  },
  {
   "cell_type": "code",
   "execution_count": 30,
   "id": "60cb9317",
   "metadata": {},
   "outputs": [],
   "source": [
    "# 신체 활동지수 열의 값이 0인 행을 선택하여 해당 값을 2로 변경\n",
    "\n",
    "df.loc[df['신체 활동지수'] == 0, '신체 활동지수'] = 2"
   ]
  },
  {
   "cell_type": "code",
   "execution_count": 31,
   "id": "3373e70f",
   "metadata": {},
   "outputs": [
    {
     "name": "stdout",
     "output_type": "stream",
     "text": [
      "2    2002\n",
      "4     584\n",
      "1     479\n",
      "3     448\n",
      "5     280\n",
      "Name: 신체 활동지수, dtype: int64\n"
     ]
    }
   ],
   "source": [
    "# '신체활동지수' 열의 값별 개수 세기\n",
    "\n",
    "activity_index_counts = df['신체 활동지수'].value_counts()\n",
    "\n",
    "# 결과 출력\n",
    "\n",
    "print(activity_index_counts)"
   ]
  },
  {
   "cell_type": "markdown",
   "id": "b8a73773",
   "metadata": {},
   "source": [
    "**사용하지 않는 열 삭제**"
   ]
  },
  {
   "cell_type": "code",
   "execution_count": 32,
   "id": "a4eae610",
   "metadata": {},
   "outputs": [],
   "source": [
    "drop_columns = ['조사연도', '허리둘레', '체질량지수', '비만 유병여부(19세이상)', '포화지방산 섭취량(g)',\n",
    "                '단일불포화지방산 섭취량(g)', '다가불포화지방산 섭취량(g)', '콜레스테롤 섭취량(mg)',\n",
    "                '고강도 신체활동 여부: 일', '고강도 신체활동 일수: 일', '고강도 신체활동 시간(시간): 일',\n",
    "                '중강도 신체활동 여부: 일', '중강도 신체활동 일수: 일', '중강도 신체활동 시간(시간): 일',\n",
    "                '고강도 신체활동 여부: 여가', '고강도 신체활동 일수: 여가', '고강도 신체활동 시간(시간): 여가',\n",
    "                '중강도 신체활동 여부: 여가', '중강도 신체활동 일수: 여가', '중강도 신체활동 시간(시간): 여가',\n",
    "                '평소 하루 앉아서 보내는 시간(시간)', '1주일간 걷기 일수', '걷기 지속 시간(시간)', '걷기 지속 시간(분)',\n",
    "                '1주일간 근력운동 일수', '유산소 신체활동 실천율', '수분 섭취량(g)']\n",
    "\n",
    "df = df.drop(columns = drop_columns)"
   ]
  },
  {
   "cell_type": "code",
   "execution_count": 33,
   "id": "d8867824",
   "metadata": {},
   "outputs": [
    {
     "data": {
      "text/plain": [
       "Index(['성별', '만나이', '(성인) 1년간 체중 변화 여부', '1년간 체중 감소량', '1년간 체중 증가량',\n",
       "       '1년간 체중 조절 여부', '신장', '체중', '식품섭취량(g)', '에너지 섭취량(kcal)', '단백질 섭취량(g)',\n",
       "       '지방 섭취량(g)', '탄수화물 섭취량(g)', '식이섬유 섭취량(g)', '당 섭취량(g)', '나트륨 섭취량(mg)',\n",
       "       '신체 활동지수'],\n",
       "      dtype='object')"
      ]
     },
     "execution_count": 33,
     "metadata": {},
     "output_type": "execute_result"
    }
   ],
   "source": [
    "df.columns"
   ]
  },
  {
   "cell_type": "code",
   "execution_count": 34,
   "id": "451b31b6",
   "metadata": {},
   "outputs": [],
   "source": [
    "df.to_csv(file_path + 'Hn19_22_preprocessed.csv', encoding = 'cp949', index = False)"
   ]
  },
  {
   "cell_type": "code",
   "execution_count": null,
   "id": "62e3e3ff",
   "metadata": {},
   "outputs": [],
   "source": []
  }
 ],
 "metadata": {
  "kernelspec": {
   "display_name": "Python 3 (ipykernel)",
   "language": "python",
   "name": "python3"
  },
  "language_info": {
   "codemirror_mode": {
    "name": "ipython",
    "version": 3
   },
   "file_extension": ".py",
   "mimetype": "text/x-python",
   "name": "python",
   "nbconvert_exporter": "python",
   "pygments_lexer": "ipython3",
   "version": "3.9.12"
  }
 },
 "nbformat": 4,
 "nbformat_minor": 5
}
