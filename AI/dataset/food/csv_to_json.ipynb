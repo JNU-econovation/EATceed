{
 "cells": [
  {
   "cell_type": "markdown",
   "metadata": {},
   "source": [
    "## 파일 형식 변환\n",
    "\n",
    "- 가공한 음식 데이터(csv)파일을 json 형식으로 변환"
   ]
  },
  {
   "cell_type": "code",
   "execution_count": null,
   "metadata": {},
   "outputs": [],
   "source": [
    "import csv\n",
    "import json"
   ]
  },
  {
   "cell_type": "code",
   "execution_count": null,
   "metadata": {},
   "outputs": [],
   "source": [
    "# csv 파일 경로\n",
    "csv_file_path = 'food_data.csv'"
   ]
  },
  {
   "cell_type": "code",
   "execution_count": null,
   "metadata": {},
   "outputs": [],
   "source": [
    "# csv 파일 읽어오기\n",
    "with open(csv_file_path, 'r', encoding='utf-8') as f:\n",
    "    reader = csv.reader(f)\n",
    "    next(reader)  # 첫 줄 skip\n",
    "\n",
    "    # 각 라인마다 딕셔너리 생성 후 리스트에 추가\n",
    "    data = []\n",
    "    for line in reader:\n",
    "        d = {\n",
    "            '식품대분류': line[1],\n",
    "            '식품상세분류': line[2],\n",
    "            '식품명': line[3],\n",
    "            '1회제공량(g)': float(line[4]),\n",
    "            '에너지(kcal)': float(line[5]),\n",
    "            '탄수화물(g)': float(line[6]),\n",
    "            '단백질(g)': float(line[7]),\n",
    "            '지방(g)': float(line[8])\n",
    "        }\n",
    "        data.append(d)"
   ]
  },
  {
   "cell_type": "code",
   "execution_count": null,
   "metadata": {},
   "outputs": [],
   "source": [
    "# json string으로 변환\n",
    "json_string = json.dumps(data, ensure_ascii=False, indent=2)\n",
    "\n",
    "# print(json_string)"
   ]
  },
  {
   "cell_type": "code",
   "execution_count": null,
   "metadata": {},
   "outputs": [],
   "source": [
    "# txt 파일로 저장할 경로\n",
    "txt_file_path = 'food_data.txt'\n",
    "\n",
    "# txt 파일 쓰기\n",
    "with open(txt_file_path, 'w', encoding='utf-8') as f:\n",
    "    f.write(json_string)"
   ]
  },
  {
   "cell_type": "code",
   "execution_count": null,
   "metadata": {},
   "outputs": [],
   "source": [
    "import json\n",
    "\n",
    "# txt 파일 읽기\n",
    "with open('food_data.txt', 'r') as f:\n",
    "    data = f.read()\n",
    "\n",
    "# json 파일로 저장\n",
    "with open('food_data.json', 'w') as f:\n",
    "    f.write(data)\n"
   ]
  }
 ],
 "metadata": {
  "language_info": {
   "name": "python"
  }
 },
 "nbformat": 4,
 "nbformat_minor": 2
}
